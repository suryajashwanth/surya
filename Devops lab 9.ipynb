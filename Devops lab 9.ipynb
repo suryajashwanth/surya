{
 "cells": [
  {
   "cell_type": "code",
   "execution_count": 15,
   "id": "0824a971-e1c4-4322-9b45-6962856bbccf",
   "metadata": {},
   "outputs": [
    {
     "name": "stdin",
     "output_type": "stream",
     "text": [
      "Area Type (e.g., Super build-up Area):  Super build-up Area\n",
      "Availability (e.g., Ready to Move):  Ready\n",
      "Location (e.g., Electronic city Phase II):  Electronic city Phase II\n",
      "Size (e.g., 2BHK):  2BHK\n",
      "Society:  Banaskankari\n",
      "Total Square Feet :  2600\n",
      "Number of Bathrooms :  3\n",
      "Number of Balconies :  2\n"
     ]
    },
    {
     "name": "stdout",
     "output_type": "stream",
     "text": [
      "\n",
      "Predicted Price:  167.86\n"
     ]
    }
   ],
   "source": [
    "import pandas as pd\n",
    "from sklearn.model_selection import train_test_split\n",
    "from sklearn.ensemble import RandomForestRegressor\n",
    "from sklearn.preprocessing import OneHotEncoder\n",
    "from sklearn.compose import ColumnTransformer\n",
    "from sklearn.pipeline import Pipeline\n",
    "\n",
    "# Load and prepare the data\n",
    "data = pd.read_csv('House Data.csv')\n",
    "\n",
    "# Convert numeric columns to float, replacing non-numeric values with NaN\n",
    "numeric_columns = ['total_sqft', 'bath', 'balcony', 'price']\n",
    "for col in numeric_columns:\n",
    "    data[col] = pd.to_numeric(data[col], errors='coerce')\n",
    "\n",
    "# Remove rows with NaN values\n",
    "data = data.dropna()\n",
    "\n",
    "# Separate features and target\n",
    "X = data.drop('price', axis=1)\n",
    "y = data['price']\n",
    "\n",
    "# Split the data\n",
    "X_train, X_test, y_train, y_test = train_test_split(X, y, test_size=0.2, random_state=42)\n",
    "\n",
    "# Define numeric and categorical columns\n",
    "numeric_features = ['total_sqft', 'bath', 'balcony']\n",
    "categorical_features = ['area_type', 'availability', 'location', 'size', 'society']\n",
    "\n",
    "# Create preprocessor\n",
    "preprocessor = ColumnTransformer(\n",
    "    transformers=[\n",
    "        ('num', 'passthrough', numeric_features),\n",
    "        ('cat', OneHotEncoder(handle_unknown='ignore'), categorical_features)\n",
    "    ])\n",
    "\n",
    "# Create and train the model\n",
    "model = Pipeline([\n",
    "    ('preprocessor', preprocessor),\n",
    "    ('regressor', RandomForestRegressor(n_estimators=100, random_state=42))\n",
    "])\n",
    "\n",
    "# Corrected: model.fit, not model,fit\n",
    "model.fit(X_train, y_train)\n",
    "\n",
    "# Function to get user input\n",
    "def get_user_input():\n",
    "    return pd.DataFrame({\n",
    "        'area_type': [input(\"Area Type (e.g., Super build-up Area): \")],\n",
    "        'availability': [input(\"Availability (e.g., Ready to Move): \")],\n",
    "        'location': [input(\"Location (e.g., Electronic city Phase II): \")],\n",
    "        'size': [input(\"Size (e.g., 2BHK): \")],\n",
    "        'society': [input(\"Society: \")],\n",
    "        'total_sqft': [float(input(\"Total Square Feet : \"))],\n",
    "        'bath': [float(input(\"Number of Bathrooms : \"))],\n",
    "        'balcony': [float(input(\"Number of Balconies : \"))]\n",
    "    })\n",
    "\n",
    "# Predict price for a new house\n",
    "new_house = get_user_input()\n",
    "\n",
    "# Ensure new input data goes through the preprocessor before making predictions\n",
    "new_house_preprocessed = model.named_steps['preprocessor'].transform(new_house)\n",
    "\n",
    "# Make the prediction\n",
    "predicted_price = model.named_steps['regressor'].predict(new_house_preprocessed)\n",
    "print(f\"\\nPredicted Price: {predicted_price[0]: .2f}\")"
   ]
  },
  {
   "cell_type": "code",
   "execution_count": null,
   "id": "ff1c9b78-7d1b-493f-b52b-9208a424b47c",
   "metadata": {},
   "outputs": [],
   "source": []
  }
 ],
 "metadata": {
  "kernelspec": {
   "display_name": "Python 3 (ipykernel)",
   "language": "python",
   "name": "python3"
  },
  "language_info": {
   "codemirror_mode": {
    "name": "ipython",
    "version": 3
   },
   "file_extension": ".py",
   "mimetype": "text/x-python",
   "name": "python",
   "nbconvert_exporter": "python",
   "pygments_lexer": "ipython3",
   "version": "3.12.4"
  }
 },
 "nbformat": 4,
 "nbformat_minor": 5
}
