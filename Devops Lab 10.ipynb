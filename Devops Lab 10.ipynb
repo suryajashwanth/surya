{
 "cells": [
  {
   "cell_type": "code",
   "execution_count": 3,
   "id": "8a89e52a-0278-4050-8293-573c3755b0a5",
   "metadata": {},
   "outputs": [
    {
     "name": "stdout",
     "output_type": "stream",
     "text": [
      "Please enter the details of the patient:\n"
     ]
    },
    {
     "name": "stdin",
     "output_type": "stream",
     "text": [
      "Age:  40\n",
      "Sex (1 for male, 0 for female):  1\n",
      "Chest pain type (0-3):  2\n",
      "Blood Pressure:  90\n",
      "Cholesterol:  100\n",
      "Fasting Blood Sugar > 120 (1 for yes, 0 for no):  1\n",
      "EKG results (0-2):  1\n",
      "Maximum Heart Rate:  150\n",
      "Exercise Angina (1 for yes, 0 for no):  1\n",
      "ST depression:  123\n",
      "Number of vessels (0-3):  2\n",
      "Slope of ST (0-2):  2\n",
      "Thallium (0-3):  2\n"
     ]
    },
    {
     "name": "stdout",
     "output_type": "stream",
     "text": [
      "\n",
      "Predicted Result: The patient is unlikely to have heart disease.\n"
     ]
    }
   ],
   "source": [
    "import pandas as pd\n",
    "from sklearn.model_selection import train_test_split\n",
    "from sklearn.ensemble import RandomForestClassifier\n",
    "from sklearn.preprocessing import OneHotEncoder\n",
    "from sklearn.compose import ColumnTransformer\n",
    "from sklearn.pipeline import Pipeline\n",
    "\n",
    "# Load the dataset\n",
    "data = pd.read_csv('/Users/vmadhavasarma/Downloads/Heart_Disease_Prediction.csv')\n",
    "\n",
    "# Define features (X) and target variable (y)\n",
    "X = data.drop('Heart Disease', axis=1)  # Features\n",
    "y = data['Heart Disease']  # Target variable\n",
    "\n",
    "# Split the dataset into training and testing sets (80/20 split)\n",
    "X_train, X_test, y_train, y_test = train_test_split(X, y, test_size=0.2, random_state=42)\n",
    "\n",
    "# Specify numeric and categorical features\n",
    "numeric_features = ['Age', 'BP', 'Cholesterol', 'Max HR', 'ST depression', 'Number of vessels fluro']\n",
    "categorical_features = ['Sex', 'Chest pain type', 'FBS over 120', 'EKG results', 'Exercise angina', 'Slope of ST', 'Thallium']\n",
    "\n",
    "# Set up a preprocessor for the pipeline\n",
    "preprocessor = ColumnTransformer(\n",
    "    transformers=[\n",
    "        ('num', 'passthrough', numeric_features),  # Pass numeric features unchanged\n",
    "        ('cat', OneHotEncoder(handle_unknown='ignore'), categorical_features)  # One-hot encode categorical features\n",
    "    ]\n",
    ")\n",
    "\n",
    "# Create a pipeline with preprocessing and the Random Forest model\n",
    "model = Pipeline([\n",
    "    ('preprocessor', preprocessor),\n",
    "    ('classifier', RandomForestClassifier(n_estimators=100, random_state=42))  # Random Forest Classifier\n",
    "])\n",
    "\n",
    "# Train the model on the training set\n",
    "model.fit(X_train, y_train)\n",
    "\n",
    "# Function to gather user input for heart disease features\n",
    "def get_user_input():\n",
    "    print(\"Please enter the details of the patient:\")\n",
    "    return pd.DataFrame({\n",
    "        'Age': [int(input(\"Age: \"))],\n",
    "        'Sex': [input(\"Sex (1 for male, 0 for female): \")],\n",
    "        'Chest pain type': [input(\"Chest pain type (0-3): \")],\n",
    "        'BP': [int(input(\"Blood Pressure: \"))],\n",
    "        'Cholesterol': [int(input(\"Cholesterol: \"))],\n",
    "        'FBS over 120': [int(input(\"Fasting Blood Sugar > 120 (1 for yes, 0 for no): \"))],\n",
    "        'EKG results': [input(\"EKG results (0-2): \")],\n",
    "        'Max HR': [int(input(\"Maximum Heart Rate: \"))],\n",
    "        'Exercise angina': [int(input(\"Exercise Angina (1 for yes, 0 for no): \"))],\n",
    "        'ST depression': [float(input(\"ST depression: \"))],  # Added input for ST depression\n",
    "        'Number of vessels fluro': [int(input(\"Number of vessels (0-3): \"))],\n",
    "        'Slope of ST': [input(\"Slope of ST (0-2): \")],  # Added input for Slope of ST\n",
    "        'Thallium': [int(input(\"Thallium (0-3): \"))]\n",
    "    })\n",
    "\n",
    "# Get user input and predict heart disease\n",
    "new_patient = get_user_input()\n",
    "predicted_disease = model.predict(new_patient)\n",
    "\n",
    "# Display the prediction result\n",
    "if predicted_disease[0] == 1:\n",
    "    print(\"\\nPredicted Result: The patient is likely to have heart disease.\")\n",
    "else:\n",
    "    print(\"\\nPredicted Result: The patient is unlikely to have heart disease.\")"
   ]
  },
  {
   "cell_type": "code",
   "execution_count": null,
   "id": "e4ea9469-4112-43cc-8025-7eb8baa31115",
   "metadata": {},
   "outputs": [],
   "source": []
  }
 ],
 "metadata": {
  "kernelspec": {
   "display_name": "Python 3 (ipykernel)",
   "language": "python",
   "name": "python3"
  },
  "language_info": {
   "codemirror_mode": {
    "name": "ipython",
    "version": 3
   },
   "file_extension": ".py",
   "mimetype": "text/x-python",
   "name": "python",
   "nbconvert_exporter": "python",
   "pygments_lexer": "ipython3",
   "version": "3.12.4"
  }
 },
 "nbformat": 4,
 "nbformat_minor": 5
}
